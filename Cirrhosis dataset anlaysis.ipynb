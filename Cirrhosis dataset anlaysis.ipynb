{
 "cells": [
  {
   "cell_type": "markdown",
   "id": "5c1a488c",
   "metadata": {},
   "source": [
    "# Import modules"
   ]
  },
  {
   "cell_type": "code",
   "execution_count": 106,
   "id": "ef7a814c",
   "metadata": {},
   "outputs": [],
   "source": [
    "import pandas as pd\n",
    "import numpy as np\n",
    "import seaborn as sns\n",
    "import matplotlib.pyplot as plt\n",
    "%matplotlib inline"
   ]
  },
  {
   "cell_type": "markdown",
   "id": "853f0e20",
   "metadata": {},
   "source": [
    "# Loading dataset"
   ]
  },
  {
   "cell_type": "code",
   "execution_count": 107,
   "id": "eb2324c4",
   "metadata": {},
   "outputs": [
    {
     "data": {
      "text/html": [
       "<div>\n",
       "<style scoped>\n",
       "    .dataframe tbody tr th:only-of-type {\n",
       "        vertical-align: middle;\n",
       "    }\n",
       "\n",
       "    .dataframe tbody tr th {\n",
       "        vertical-align: top;\n",
       "    }\n",
       "\n",
       "    .dataframe thead th {\n",
       "        text-align: right;\n",
       "    }\n",
       "</style>\n",
       "<table border=\"1\" class=\"dataframe\">\n",
       "  <thead>\n",
       "    <tr style=\"text-align: right;\">\n",
       "      <th></th>\n",
       "      <th>ID</th>\n",
       "      <th>N_Days</th>\n",
       "      <th>Status</th>\n",
       "      <th>Drug</th>\n",
       "      <th>Age</th>\n",
       "      <th>Sex</th>\n",
       "      <th>Ascites</th>\n",
       "      <th>Hepatomegaly</th>\n",
       "      <th>Spiders</th>\n",
       "      <th>Edema</th>\n",
       "      <th>Bilirubin</th>\n",
       "      <th>Cholesterol</th>\n",
       "      <th>Albumin</th>\n",
       "      <th>Copper</th>\n",
       "      <th>Alk_Phos</th>\n",
       "      <th>SGOT</th>\n",
       "      <th>Tryglicerides</th>\n",
       "      <th>Platelets</th>\n",
       "      <th>Prothrombin</th>\n",
       "      <th>Stage</th>\n",
       "    </tr>\n",
       "  </thead>\n",
       "  <tbody>\n",
       "    <tr>\n",
       "      <th>0</th>\n",
       "      <td>1</td>\n",
       "      <td>400</td>\n",
       "      <td>D</td>\n",
       "      <td>D-penicillamine</td>\n",
       "      <td>21464</td>\n",
       "      <td>F</td>\n",
       "      <td>Y</td>\n",
       "      <td>Y</td>\n",
       "      <td>Y</td>\n",
       "      <td>Y</td>\n",
       "      <td>14.5</td>\n",
       "      <td>261.0</td>\n",
       "      <td>2.60</td>\n",
       "      <td>156.0</td>\n",
       "      <td>1718.0</td>\n",
       "      <td>137.95</td>\n",
       "      <td>172.0</td>\n",
       "      <td>190.0</td>\n",
       "      <td>12.2</td>\n",
       "      <td>4.0</td>\n",
       "    </tr>\n",
       "    <tr>\n",
       "      <th>1</th>\n",
       "      <td>2</td>\n",
       "      <td>4500</td>\n",
       "      <td>C</td>\n",
       "      <td>D-penicillamine</td>\n",
       "      <td>20617</td>\n",
       "      <td>F</td>\n",
       "      <td>N</td>\n",
       "      <td>Y</td>\n",
       "      <td>Y</td>\n",
       "      <td>N</td>\n",
       "      <td>1.1</td>\n",
       "      <td>302.0</td>\n",
       "      <td>4.14</td>\n",
       "      <td>54.0</td>\n",
       "      <td>7394.8</td>\n",
       "      <td>113.52</td>\n",
       "      <td>88.0</td>\n",
       "      <td>221.0</td>\n",
       "      <td>10.6</td>\n",
       "      <td>3.0</td>\n",
       "    </tr>\n",
       "    <tr>\n",
       "      <th>2</th>\n",
       "      <td>3</td>\n",
       "      <td>1012</td>\n",
       "      <td>D</td>\n",
       "      <td>D-penicillamine</td>\n",
       "      <td>25594</td>\n",
       "      <td>M</td>\n",
       "      <td>N</td>\n",
       "      <td>N</td>\n",
       "      <td>N</td>\n",
       "      <td>S</td>\n",
       "      <td>1.4</td>\n",
       "      <td>176.0</td>\n",
       "      <td>3.48</td>\n",
       "      <td>210.0</td>\n",
       "      <td>516.0</td>\n",
       "      <td>96.10</td>\n",
       "      <td>55.0</td>\n",
       "      <td>151.0</td>\n",
       "      <td>12.0</td>\n",
       "      <td>4.0</td>\n",
       "    </tr>\n",
       "    <tr>\n",
       "      <th>3</th>\n",
       "      <td>4</td>\n",
       "      <td>1925</td>\n",
       "      <td>D</td>\n",
       "      <td>D-penicillamine</td>\n",
       "      <td>19994</td>\n",
       "      <td>F</td>\n",
       "      <td>N</td>\n",
       "      <td>Y</td>\n",
       "      <td>Y</td>\n",
       "      <td>S</td>\n",
       "      <td>1.8</td>\n",
       "      <td>244.0</td>\n",
       "      <td>2.54</td>\n",
       "      <td>64.0</td>\n",
       "      <td>6121.8</td>\n",
       "      <td>60.63</td>\n",
       "      <td>92.0</td>\n",
       "      <td>183.0</td>\n",
       "      <td>10.3</td>\n",
       "      <td>4.0</td>\n",
       "    </tr>\n",
       "    <tr>\n",
       "      <th>4</th>\n",
       "      <td>5</td>\n",
       "      <td>1504</td>\n",
       "      <td>CL</td>\n",
       "      <td>Placebo</td>\n",
       "      <td>13918</td>\n",
       "      <td>F</td>\n",
       "      <td>N</td>\n",
       "      <td>Y</td>\n",
       "      <td>Y</td>\n",
       "      <td>N</td>\n",
       "      <td>3.4</td>\n",
       "      <td>279.0</td>\n",
       "      <td>3.53</td>\n",
       "      <td>143.0</td>\n",
       "      <td>671.0</td>\n",
       "      <td>113.15</td>\n",
       "      <td>72.0</td>\n",
       "      <td>136.0</td>\n",
       "      <td>10.9</td>\n",
       "      <td>3.0</td>\n",
       "    </tr>\n",
       "  </tbody>\n",
       "</table>\n",
       "</div>"
      ],
      "text/plain": [
       "   ID  N_Days Status             Drug    Age Sex Ascites Hepatomegaly Spiders  \\\n",
       "0   1     400      D  D-penicillamine  21464   F       Y            Y       Y   \n",
       "1   2    4500      C  D-penicillamine  20617   F       N            Y       Y   \n",
       "2   3    1012      D  D-penicillamine  25594   M       N            N       N   \n",
       "3   4    1925      D  D-penicillamine  19994   F       N            Y       Y   \n",
       "4   5    1504     CL          Placebo  13918   F       N            Y       Y   \n",
       "\n",
       "  Edema  Bilirubin  Cholesterol  Albumin  Copper  Alk_Phos    SGOT  \\\n",
       "0     Y       14.5        261.0     2.60   156.0    1718.0  137.95   \n",
       "1     N        1.1        302.0     4.14    54.0    7394.8  113.52   \n",
       "2     S        1.4        176.0     3.48   210.0     516.0   96.10   \n",
       "3     S        1.8        244.0     2.54    64.0    6121.8   60.63   \n",
       "4     N        3.4        279.0     3.53   143.0     671.0  113.15   \n",
       "\n",
       "   Tryglicerides  Platelets  Prothrombin  Stage  \n",
       "0          172.0      190.0         12.2    4.0  \n",
       "1           88.0      221.0         10.6    3.0  \n",
       "2           55.0      151.0         12.0    4.0  \n",
       "3           92.0      183.0         10.3    4.0  \n",
       "4           72.0      136.0         10.9    3.0  "
      ]
     },
     "execution_count": 107,
     "metadata": {},
     "output_type": "execute_result"
    }
   ],
   "source": [
    "data=pd.read_csv('C:\\\\Users\\\\USER\\\\Desktop\\\\cirrho\\\\cirrhosis.csv')\n",
    "data.head(5)"
   ]
  },
  {
   "cell_type": "code",
   "execution_count": 108,
   "id": "837f3482",
   "metadata": {},
   "outputs": [
    {
     "data": {
      "text/plain": [
       "ID                 int64\n",
       "N_Days             int64\n",
       "Status            object\n",
       "Drug              object\n",
       "Age                int64\n",
       "Sex               object\n",
       "Ascites           object\n",
       "Hepatomegaly      object\n",
       "Spiders           object\n",
       "Edema             object\n",
       "Bilirubin        float64\n",
       "Cholesterol      float64\n",
       "Albumin          float64\n",
       "Copper           float64\n",
       "Alk_Phos         float64\n",
       "SGOT             float64\n",
       "Tryglicerides    float64\n",
       "Platelets        float64\n",
       "Prothrombin      float64\n",
       "Stage            float64\n",
       "dtype: object"
      ]
     },
     "execution_count": 108,
     "metadata": {},
     "output_type": "execute_result"
    }
   ],
   "source": [
    "data.dtypes"
   ]
  },
  {
   "cell_type": "code",
   "execution_count": 109,
   "id": "27d211fb",
   "metadata": {},
   "outputs": [
    {
     "data": {
      "text/html": [
       "<div>\n",
       "<style scoped>\n",
       "    .dataframe tbody tr th:only-of-type {\n",
       "        vertical-align: middle;\n",
       "    }\n",
       "\n",
       "    .dataframe tbody tr th {\n",
       "        vertical-align: top;\n",
       "    }\n",
       "\n",
       "    .dataframe thead th {\n",
       "        text-align: right;\n",
       "    }\n",
       "</style>\n",
       "<table border=\"1\" class=\"dataframe\">\n",
       "  <thead>\n",
       "    <tr style=\"text-align: right;\">\n",
       "      <th></th>\n",
       "      <th>count</th>\n",
       "      <th>mean</th>\n",
       "      <th>std</th>\n",
       "      <th>min</th>\n",
       "      <th>25%</th>\n",
       "      <th>50%</th>\n",
       "      <th>75%</th>\n",
       "      <th>max</th>\n",
       "    </tr>\n",
       "  </thead>\n",
       "  <tbody>\n",
       "    <tr>\n",
       "      <th>ID</th>\n",
       "      <td>418.0</td>\n",
       "      <td>209.500000</td>\n",
       "      <td>120.810458</td>\n",
       "      <td>1.00</td>\n",
       "      <td>105.2500</td>\n",
       "      <td>209.50</td>\n",
       "      <td>313.75</td>\n",
       "      <td>418.00</td>\n",
       "    </tr>\n",
       "    <tr>\n",
       "      <th>N_Days</th>\n",
       "      <td>418.0</td>\n",
       "      <td>1917.782297</td>\n",
       "      <td>1104.672992</td>\n",
       "      <td>41.00</td>\n",
       "      <td>1092.7500</td>\n",
       "      <td>1730.00</td>\n",
       "      <td>2613.50</td>\n",
       "      <td>4795.00</td>\n",
       "    </tr>\n",
       "    <tr>\n",
       "      <th>Age</th>\n",
       "      <td>418.0</td>\n",
       "      <td>18533.351675</td>\n",
       "      <td>3815.845055</td>\n",
       "      <td>9598.00</td>\n",
       "      <td>15644.5000</td>\n",
       "      <td>18628.00</td>\n",
       "      <td>21272.50</td>\n",
       "      <td>28650.00</td>\n",
       "    </tr>\n",
       "    <tr>\n",
       "      <th>Bilirubin</th>\n",
       "      <td>418.0</td>\n",
       "      <td>3.220813</td>\n",
       "      <td>4.407506</td>\n",
       "      <td>0.30</td>\n",
       "      <td>0.8000</td>\n",
       "      <td>1.40</td>\n",
       "      <td>3.40</td>\n",
       "      <td>28.00</td>\n",
       "    </tr>\n",
       "    <tr>\n",
       "      <th>Cholesterol</th>\n",
       "      <td>284.0</td>\n",
       "      <td>369.510563</td>\n",
       "      <td>231.944545</td>\n",
       "      <td>120.00</td>\n",
       "      <td>249.5000</td>\n",
       "      <td>309.50</td>\n",
       "      <td>400.00</td>\n",
       "      <td>1775.00</td>\n",
       "    </tr>\n",
       "    <tr>\n",
       "      <th>Albumin</th>\n",
       "      <td>418.0</td>\n",
       "      <td>3.497440</td>\n",
       "      <td>0.424972</td>\n",
       "      <td>1.96</td>\n",
       "      <td>3.2425</td>\n",
       "      <td>3.53</td>\n",
       "      <td>3.77</td>\n",
       "      <td>4.64</td>\n",
       "    </tr>\n",
       "    <tr>\n",
       "      <th>Copper</th>\n",
       "      <td>310.0</td>\n",
       "      <td>97.648387</td>\n",
       "      <td>85.613920</td>\n",
       "      <td>4.00</td>\n",
       "      <td>41.2500</td>\n",
       "      <td>73.00</td>\n",
       "      <td>123.00</td>\n",
       "      <td>588.00</td>\n",
       "    </tr>\n",
       "    <tr>\n",
       "      <th>Alk_Phos</th>\n",
       "      <td>312.0</td>\n",
       "      <td>1982.655769</td>\n",
       "      <td>2140.388824</td>\n",
       "      <td>289.00</td>\n",
       "      <td>871.5000</td>\n",
       "      <td>1259.00</td>\n",
       "      <td>1980.00</td>\n",
       "      <td>13862.40</td>\n",
       "    </tr>\n",
       "    <tr>\n",
       "      <th>SGOT</th>\n",
       "      <td>312.0</td>\n",
       "      <td>122.556346</td>\n",
       "      <td>56.699525</td>\n",
       "      <td>26.35</td>\n",
       "      <td>80.6000</td>\n",
       "      <td>114.70</td>\n",
       "      <td>151.90</td>\n",
       "      <td>457.25</td>\n",
       "    </tr>\n",
       "    <tr>\n",
       "      <th>Tryglicerides</th>\n",
       "      <td>282.0</td>\n",
       "      <td>124.702128</td>\n",
       "      <td>65.148639</td>\n",
       "      <td>33.00</td>\n",
       "      <td>84.2500</td>\n",
       "      <td>108.00</td>\n",
       "      <td>151.00</td>\n",
       "      <td>598.00</td>\n",
       "    </tr>\n",
       "    <tr>\n",
       "      <th>Platelets</th>\n",
       "      <td>407.0</td>\n",
       "      <td>257.024570</td>\n",
       "      <td>98.325585</td>\n",
       "      <td>62.00</td>\n",
       "      <td>188.5000</td>\n",
       "      <td>251.00</td>\n",
       "      <td>318.00</td>\n",
       "      <td>721.00</td>\n",
       "    </tr>\n",
       "    <tr>\n",
       "      <th>Prothrombin</th>\n",
       "      <td>416.0</td>\n",
       "      <td>10.731731</td>\n",
       "      <td>1.022000</td>\n",
       "      <td>9.00</td>\n",
       "      <td>10.0000</td>\n",
       "      <td>10.60</td>\n",
       "      <td>11.10</td>\n",
       "      <td>18.00</td>\n",
       "    </tr>\n",
       "    <tr>\n",
       "      <th>Stage</th>\n",
       "      <td>412.0</td>\n",
       "      <td>3.024272</td>\n",
       "      <td>0.882042</td>\n",
       "      <td>1.00</td>\n",
       "      <td>2.0000</td>\n",
       "      <td>3.00</td>\n",
       "      <td>4.00</td>\n",
       "      <td>4.00</td>\n",
       "    </tr>\n",
       "  </tbody>\n",
       "</table>\n",
       "</div>"
      ],
      "text/plain": [
       "               count          mean          std      min         25%  \\\n",
       "ID             418.0    209.500000   120.810458     1.00    105.2500   \n",
       "N_Days         418.0   1917.782297  1104.672992    41.00   1092.7500   \n",
       "Age            418.0  18533.351675  3815.845055  9598.00  15644.5000   \n",
       "Bilirubin      418.0      3.220813     4.407506     0.30      0.8000   \n",
       "Cholesterol    284.0    369.510563   231.944545   120.00    249.5000   \n",
       "Albumin        418.0      3.497440     0.424972     1.96      3.2425   \n",
       "Copper         310.0     97.648387    85.613920     4.00     41.2500   \n",
       "Alk_Phos       312.0   1982.655769  2140.388824   289.00    871.5000   \n",
       "SGOT           312.0    122.556346    56.699525    26.35     80.6000   \n",
       "Tryglicerides  282.0    124.702128    65.148639    33.00     84.2500   \n",
       "Platelets      407.0    257.024570    98.325585    62.00    188.5000   \n",
       "Prothrombin    416.0     10.731731     1.022000     9.00     10.0000   \n",
       "Stage          412.0      3.024272     0.882042     1.00      2.0000   \n",
       "\n",
       "                    50%       75%       max  \n",
       "ID               209.50    313.75    418.00  \n",
       "N_Days          1730.00   2613.50   4795.00  \n",
       "Age            18628.00  21272.50  28650.00  \n",
       "Bilirubin          1.40      3.40     28.00  \n",
       "Cholesterol      309.50    400.00   1775.00  \n",
       "Albumin            3.53      3.77      4.64  \n",
       "Copper            73.00    123.00    588.00  \n",
       "Alk_Phos        1259.00   1980.00  13862.40  \n",
       "SGOT             114.70    151.90    457.25  \n",
       "Tryglicerides    108.00    151.00    598.00  \n",
       "Platelets        251.00    318.00    721.00  \n",
       "Prothrombin       10.60     11.10     18.00  \n",
       "Stage              3.00      4.00      4.00  "
      ]
     },
     "execution_count": 109,
     "metadata": {},
     "output_type": "execute_result"
    }
   ],
   "source": [
    "data.describe().T"
   ]
  },
  {
   "cell_type": "code",
   "execution_count": 110,
   "id": "810fb5d1",
   "metadata": {},
   "outputs": [
    {
     "data": {
      "text/plain": [
       "ID               418\n",
       "N_Days           399\n",
       "Status             3\n",
       "Drug               2\n",
       "Age              344\n",
       "Sex                2\n",
       "Ascites            2\n",
       "Hepatomegaly       2\n",
       "Spiders            2\n",
       "Edema              3\n",
       "Bilirubin         98\n",
       "Cholesterol      201\n",
       "Albumin          154\n",
       "Copper           158\n",
       "Alk_Phos         295\n",
       "SGOT             179\n",
       "Tryglicerides    146\n",
       "Platelets        243\n",
       "Prothrombin       48\n",
       "Stage              4\n",
       "dtype: int64"
      ]
     },
     "execution_count": 110,
     "metadata": {},
     "output_type": "execute_result"
    }
   ],
   "source": [
    "data.nunique()"
   ]
  },
  {
   "cell_type": "code",
   "execution_count": 111,
   "id": "ad6cd9ac",
   "metadata": {},
   "outputs": [
    {
     "data": {
      "text/plain": [
       "N    354\n",
       "S     44\n",
       "Y     20\n",
       "Name: Edema, dtype: int64"
      ]
     },
     "execution_count": 111,
     "metadata": {},
     "output_type": "execute_result"
    }
   ],
   "source": [
    "data['Edema'].value_counts()"
   ]
  },
  {
   "cell_type": "code",
   "execution_count": 112,
   "id": "1bb4ee80",
   "metadata": {},
   "outputs": [
    {
     "data": {
      "text/plain": [
       "0.7     33\n",
       "0.6     31\n",
       "0.5     23\n",
       "0.8     23\n",
       "1.1     20\n",
       "        ..\n",
       "24.5     1\n",
       "10.8     1\n",
       "3.7      1\n",
       "5.9      1\n",
       "4.6      1\n",
       "Name: Bilirubin, Length: 98, dtype: int64"
      ]
     },
     "execution_count": 112,
     "metadata": {},
     "output_type": "execute_result"
    }
   ],
   "source": [
    "data['Bilirubin'].value_counts()"
   ]
  },
  {
   "cell_type": "code",
   "execution_count": 113,
   "id": "f253bc43",
   "metadata": {},
   "outputs": [
    {
     "data": {
      "text/plain": [
       "19724    7\n",
       "18993    6\n",
       "18628    6\n",
       "23376    5\n",
       "22646    5\n",
       "        ..\n",
       "15574    1\n",
       "19295    1\n",
       "18713    1\n",
       "20256    1\n",
       "12784    1\n",
       "Name: Age, Length: 344, dtype: int64"
      ]
     },
     "execution_count": 113,
     "metadata": {},
     "output_type": "execute_result"
    }
   ],
   "source": [
    "data['Age'].value_counts()"
   ]
  },
  {
   "cell_type": "markdown",
   "id": "5607685c",
   "metadata": {},
   "source": [
    "# Preprocessing of dataset"
   ]
  },
  {
   "cell_type": "code",
   "execution_count": 114,
   "id": "e999a30b",
   "metadata": {},
   "outputs": [
    {
     "data": {
      "text/plain": [
       "ID                 0\n",
       "N_Days             0\n",
       "Age                0\n",
       "Bilirubin          0\n",
       "Cholesterol      134\n",
       "Albumin            0\n",
       "Copper           108\n",
       "Alk_Phos         106\n",
       "SGOT             106\n",
       "Tryglicerides    136\n",
       "Platelets         11\n",
       "Prothrombin        2\n",
       "Stage              6\n",
       "dtype: int64"
      ]
     },
     "execution_count": 114,
     "metadata": {},
     "output_type": "execute_result"
    }
   ],
   "source": [
    "data.select_dtypes(include=(['int64', 'float64'])).isna().sum()"
   ]
  },
  {
   "cell_type": "code",
   "execution_count": 115,
   "id": "f02fd1fa",
   "metadata": {},
   "outputs": [
    {
     "data": {
      "text/plain": [
       "ID               0\n",
       "N_Days           0\n",
       "Age              0\n",
       "Bilirubin        0\n",
       "Cholesterol      0\n",
       "Albumin          0\n",
       "Copper           0\n",
       "Alk_Phos         0\n",
       "SGOT             0\n",
       "Tryglicerides    0\n",
       "Platelets        0\n",
       "Prothrombin      0\n",
       "Stage            0\n",
       "dtype: int64"
      ]
     },
     "execution_count": 115,
     "metadata": {},
     "output_type": "execute_result"
    }
   ],
   "source": [
    "# for numerical\n",
    "data.select_dtypes(include=(['int64', 'float64'])).isna().sum()\n",
    "data_num_col = data.select_dtypes(include=(['int64', 'float64'])).columns\n",
    "for c in data_num_col:\n",
    "    data[c].fillna(data[c].median(), inplace=True)\n",
    "\n",
    "data.select_dtypes(include=(['int64', 'float64'])).isna().sum()"
   ]
  },
  {
   "cell_type": "code",
   "execution_count": 116,
   "id": "985ccb9a",
   "metadata": {},
   "outputs": [
    {
     "data": {
      "text/plain": [
       "Status            0\n",
       "Drug            106\n",
       "Sex               0\n",
       "Ascites         106\n",
       "Hepatomegaly    106\n",
       "Spiders         106\n",
       "Edema             0\n",
       "dtype: int64"
      ]
     },
     "execution_count": 116,
     "metadata": {},
     "output_type": "execute_result"
    }
   ],
   "source": [
    "# For Categorical type\n",
    "data.select_dtypes(include=('object')).isna().sum()"
   ]
  },
  {
   "cell_type": "code",
   "execution_count": 117,
   "id": "03b20bbd",
   "metadata": {},
   "outputs": [
    {
     "data": {
      "text/plain": [
       "Status          0\n",
       "Drug            0\n",
       "Sex             0\n",
       "Ascites         0\n",
       "Hepatomegaly    0\n",
       "Spiders         0\n",
       "Edema           0\n",
       "dtype: int64"
      ]
     },
     "execution_count": 117,
     "metadata": {},
     "output_type": "execute_result"
    }
   ],
   "source": [
    "data_col = data.select_dtypes(include=('object')).columns\n",
    "for c in data_col:\n",
    "    data[c].fillna(data[c].mode().values[0], inplace=True)\n",
    "    \n",
    "data.select_dtypes(include=('object')).isnull().sum()"
   ]
  },
  {
   "cell_type": "markdown",
   "id": "bc972a56",
   "metadata": {},
   "source": [
    "# Correlation matrix"
   ]
  },
  {
   "cell_type": "code",
   "execution_count": 118,
   "id": "50fedb89",
   "metadata": {},
   "outputs": [
    {
     "data": {
      "text/html": [
       "<div>\n",
       "<style scoped>\n",
       "    .dataframe tbody tr th:only-of-type {\n",
       "        vertical-align: middle;\n",
       "    }\n",
       "\n",
       "    .dataframe tbody tr th {\n",
       "        vertical-align: top;\n",
       "    }\n",
       "\n",
       "    .dataframe thead th {\n",
       "        text-align: right;\n",
       "    }\n",
       "</style>\n",
       "<table border=\"1\" class=\"dataframe\">\n",
       "  <thead>\n",
       "    <tr style=\"text-align: right;\">\n",
       "      <th></th>\n",
       "      <th>ID</th>\n",
       "      <th>N_Days</th>\n",
       "      <th>Age</th>\n",
       "      <th>Bilirubin</th>\n",
       "      <th>Cholesterol</th>\n",
       "      <th>Albumin</th>\n",
       "      <th>Copper</th>\n",
       "      <th>Alk_Phos</th>\n",
       "      <th>SGOT</th>\n",
       "      <th>Tryglicerides</th>\n",
       "      <th>Platelets</th>\n",
       "      <th>Prothrombin</th>\n",
       "      <th>Stage</th>\n",
       "    </tr>\n",
       "  </thead>\n",
       "  <tbody>\n",
       "    <tr>\n",
       "      <th>ID</th>\n",
       "      <td>1.000000</td>\n",
       "      <td>-0.354305</td>\n",
       "      <td>0.037136</td>\n",
       "      <td>-0.062154</td>\n",
       "      <td>-0.069327</td>\n",
       "      <td>-0.128924</td>\n",
       "      <td>-0.171115</td>\n",
       "      <td>-0.350981</td>\n",
       "      <td>-0.060318</td>\n",
       "      <td>-0.110382</td>\n",
       "      <td>-0.076032</td>\n",
       "      <td>-0.191959</td>\n",
       "      <td>-0.033911</td>\n",
       "    </tr>\n",
       "    <tr>\n",
       "      <th>N_Days</th>\n",
       "      <td>-0.354305</td>\n",
       "      <td>1.000000</td>\n",
       "      <td>-0.125934</td>\n",
       "      <td>-0.403953</td>\n",
       "      <td>-0.099322</td>\n",
       "      <td>0.430829</td>\n",
       "      <td>-0.295723</td>\n",
       "      <td>0.152368</td>\n",
       "      <td>-0.187930</td>\n",
       "      <td>-0.111453</td>\n",
       "      <td>0.146144</td>\n",
       "      <td>-0.110685</td>\n",
       "      <td>-0.362013</td>\n",
       "    </tr>\n",
       "    <tr>\n",
       "      <th>Age</th>\n",
       "      <td>0.037136</td>\n",
       "      <td>-0.125934</td>\n",
       "      <td>1.000000</td>\n",
       "      <td>0.002362</td>\n",
       "      <td>-0.145054</td>\n",
       "      <td>-0.182350</td>\n",
       "      <td>0.034519</td>\n",
       "      <td>-0.060708</td>\n",
       "      <td>-0.139050</td>\n",
       "      <td>0.002323</td>\n",
       "      <td>-0.146383</td>\n",
       "      <td>0.113916</td>\n",
       "      <td>0.187852</td>\n",
       "    </tr>\n",
       "    <tr>\n",
       "      <th>Bilirubin</th>\n",
       "      <td>-0.062154</td>\n",
       "      <td>-0.403953</td>\n",
       "      <td>0.002362</td>\n",
       "      <td>1.000000</td>\n",
       "      <td>0.336882</td>\n",
       "      <td>-0.314177</td>\n",
       "      <td>0.403761</td>\n",
       "      <td>0.104675</td>\n",
       "      <td>0.392112</td>\n",
       "      <td>0.370330</td>\n",
       "      <td>-0.012988</td>\n",
       "      <td>0.312007</td>\n",
       "      <td>0.200314</td>\n",
       "    </tr>\n",
       "    <tr>\n",
       "      <th>Cholesterol</th>\n",
       "      <td>-0.069327</td>\n",
       "      <td>-0.099322</td>\n",
       "      <td>-0.145054</td>\n",
       "      <td>0.336882</td>\n",
       "      <td>1.000000</td>\n",
       "      <td>-0.043022</td>\n",
       "      <td>0.145910</td>\n",
       "      <td>0.157995</td>\n",
       "      <td>0.347222</td>\n",
       "      <td>0.291750</td>\n",
       "      <td>0.159034</td>\n",
       "      <td>-0.027259</td>\n",
       "      <td>0.009930</td>\n",
       "    </tr>\n",
       "    <tr>\n",
       "      <th>Albumin</th>\n",
       "      <td>-0.128924</td>\n",
       "      <td>0.430829</td>\n",
       "      <td>-0.182350</td>\n",
       "      <td>-0.314177</td>\n",
       "      <td>-0.043022</td>\n",
       "      <td>1.000000</td>\n",
       "      <td>-0.209024</td>\n",
       "      <td>-0.070010</td>\n",
       "      <td>-0.180947</td>\n",
       "      <td>-0.068509</td>\n",
       "      <td>0.155421</td>\n",
       "      <td>-0.198405</td>\n",
       "      <td>-0.302190</td>\n",
       "    </tr>\n",
       "    <tr>\n",
       "      <th>Copper</th>\n",
       "      <td>-0.171115</td>\n",
       "      <td>-0.295723</td>\n",
       "      <td>0.034519</td>\n",
       "      <td>0.403761</td>\n",
       "      <td>0.145910</td>\n",
       "      <td>-0.209024</td>\n",
       "      <td>1.000000</td>\n",
       "      <td>0.207349</td>\n",
       "      <td>0.298923</td>\n",
       "      <td>0.292236</td>\n",
       "      <td>-0.039929</td>\n",
       "      <td>0.182494</td>\n",
       "      <td>0.232149</td>\n",
       "    </tr>\n",
       "    <tr>\n",
       "      <th>Alk_Phos</th>\n",
       "      <td>-0.350981</td>\n",
       "      <td>0.152368</td>\n",
       "      <td>-0.060708</td>\n",
       "      <td>0.104675</td>\n",
       "      <td>0.157995</td>\n",
       "      <td>-0.070010</td>\n",
       "      <td>0.207349</td>\n",
       "      <td>1.000000</td>\n",
       "      <td>0.122071</td>\n",
       "      <td>0.186250</td>\n",
       "      <td>0.133573</td>\n",
       "      <td>0.073408</td>\n",
       "      <td>0.037905</td>\n",
       "    </tr>\n",
       "    <tr>\n",
       "      <th>SGOT</th>\n",
       "      <td>-0.060318</td>\n",
       "      <td>-0.187930</td>\n",
       "      <td>-0.139050</td>\n",
       "      <td>0.392112</td>\n",
       "      <td>0.347222</td>\n",
       "      <td>-0.180947</td>\n",
       "      <td>0.298923</td>\n",
       "      <td>0.122071</td>\n",
       "      <td>1.000000</td>\n",
       "      <td>0.130853</td>\n",
       "      <td>-0.093715</td>\n",
       "      <td>0.094550</td>\n",
       "      <td>0.143568</td>\n",
       "    </tr>\n",
       "    <tr>\n",
       "      <th>Tryglicerides</th>\n",
       "      <td>-0.110382</td>\n",
       "      <td>-0.111453</td>\n",
       "      <td>0.002323</td>\n",
       "      <td>0.370330</td>\n",
       "      <td>0.291750</td>\n",
       "      <td>-0.068509</td>\n",
       "      <td>0.292236</td>\n",
       "      <td>0.186250</td>\n",
       "      <td>0.130853</td>\n",
       "      <td>1.000000</td>\n",
       "      <td>0.088892</td>\n",
       "      <td>0.014831</td>\n",
       "      <td>0.099879</td>\n",
       "    </tr>\n",
       "    <tr>\n",
       "      <th>Platelets</th>\n",
       "      <td>-0.076032</td>\n",
       "      <td>0.146144</td>\n",
       "      <td>-0.146383</td>\n",
       "      <td>-0.012988</td>\n",
       "      <td>0.159034</td>\n",
       "      <td>0.155421</td>\n",
       "      <td>-0.039929</td>\n",
       "      <td>0.133573</td>\n",
       "      <td>-0.093715</td>\n",
       "      <td>0.088892</td>\n",
       "      <td>1.000000</td>\n",
       "      <td>-0.155655</td>\n",
       "      <td>-0.239594</td>\n",
       "    </tr>\n",
       "    <tr>\n",
       "      <th>Prothrombin</th>\n",
       "      <td>-0.191959</td>\n",
       "      <td>-0.110685</td>\n",
       "      <td>0.113916</td>\n",
       "      <td>0.312007</td>\n",
       "      <td>-0.027259</td>\n",
       "      <td>-0.198405</td>\n",
       "      <td>0.182494</td>\n",
       "      <td>0.073408</td>\n",
       "      <td>0.094550</td>\n",
       "      <td>0.014831</td>\n",
       "      <td>-0.155655</td>\n",
       "      <td>1.000000</td>\n",
       "      <td>0.205981</td>\n",
       "    </tr>\n",
       "    <tr>\n",
       "      <th>Stage</th>\n",
       "      <td>-0.033911</td>\n",
       "      <td>-0.362013</td>\n",
       "      <td>0.187852</td>\n",
       "      <td>0.200314</td>\n",
       "      <td>0.009930</td>\n",
       "      <td>-0.302190</td>\n",
       "      <td>0.232149</td>\n",
       "      <td>0.037905</td>\n",
       "      <td>0.143568</td>\n",
       "      <td>0.099879</td>\n",
       "      <td>-0.239594</td>\n",
       "      <td>0.205981</td>\n",
       "      <td>1.000000</td>\n",
       "    </tr>\n",
       "  </tbody>\n",
       "</table>\n",
       "</div>"
      ],
      "text/plain": [
       "                     ID    N_Days       Age  Bilirubin  Cholesterol   Albumin  \\\n",
       "ID             1.000000 -0.354305  0.037136  -0.062154    -0.069327 -0.128924   \n",
       "N_Days        -0.354305  1.000000 -0.125934  -0.403953    -0.099322  0.430829   \n",
       "Age            0.037136 -0.125934  1.000000   0.002362    -0.145054 -0.182350   \n",
       "Bilirubin     -0.062154 -0.403953  0.002362   1.000000     0.336882 -0.314177   \n",
       "Cholesterol   -0.069327 -0.099322 -0.145054   0.336882     1.000000 -0.043022   \n",
       "Albumin       -0.128924  0.430829 -0.182350  -0.314177    -0.043022  1.000000   \n",
       "Copper        -0.171115 -0.295723  0.034519   0.403761     0.145910 -0.209024   \n",
       "Alk_Phos      -0.350981  0.152368 -0.060708   0.104675     0.157995 -0.070010   \n",
       "SGOT          -0.060318 -0.187930 -0.139050   0.392112     0.347222 -0.180947   \n",
       "Tryglicerides -0.110382 -0.111453  0.002323   0.370330     0.291750 -0.068509   \n",
       "Platelets     -0.076032  0.146144 -0.146383  -0.012988     0.159034  0.155421   \n",
       "Prothrombin   -0.191959 -0.110685  0.113916   0.312007    -0.027259 -0.198405   \n",
       "Stage         -0.033911 -0.362013  0.187852   0.200314     0.009930 -0.302190   \n",
       "\n",
       "                 Copper  Alk_Phos      SGOT  Tryglicerides  Platelets  \\\n",
       "ID            -0.171115 -0.350981 -0.060318      -0.110382  -0.076032   \n",
       "N_Days        -0.295723  0.152368 -0.187930      -0.111453   0.146144   \n",
       "Age            0.034519 -0.060708 -0.139050       0.002323  -0.146383   \n",
       "Bilirubin      0.403761  0.104675  0.392112       0.370330  -0.012988   \n",
       "Cholesterol    0.145910  0.157995  0.347222       0.291750   0.159034   \n",
       "Albumin       -0.209024 -0.070010 -0.180947      -0.068509   0.155421   \n",
       "Copper         1.000000  0.207349  0.298923       0.292236  -0.039929   \n",
       "Alk_Phos       0.207349  1.000000  0.122071       0.186250   0.133573   \n",
       "SGOT           0.298923  0.122071  1.000000       0.130853  -0.093715   \n",
       "Tryglicerides  0.292236  0.186250  0.130853       1.000000   0.088892   \n",
       "Platelets     -0.039929  0.133573 -0.093715       0.088892   1.000000   \n",
       "Prothrombin    0.182494  0.073408  0.094550       0.014831  -0.155655   \n",
       "Stage          0.232149  0.037905  0.143568       0.099879  -0.239594   \n",
       "\n",
       "               Prothrombin     Stage  \n",
       "ID               -0.191959 -0.033911  \n",
       "N_Days           -0.110685 -0.362013  \n",
       "Age               0.113916  0.187852  \n",
       "Bilirubin         0.312007  0.200314  \n",
       "Cholesterol      -0.027259  0.009930  \n",
       "Albumin          -0.198405 -0.302190  \n",
       "Copper            0.182494  0.232149  \n",
       "Alk_Phos          0.073408  0.037905  \n",
       "SGOT              0.094550  0.143568  \n",
       "Tryglicerides     0.014831  0.099879  \n",
       "Platelets        -0.155655 -0.239594  \n",
       "Prothrombin       1.000000  0.205981  \n",
       "Stage             0.205981  1.000000  "
      ]
     },
     "execution_count": 118,
     "metadata": {},
     "output_type": "execute_result"
    }
   ],
   "source": [
    "data.corr()"
   ]
  },
  {
   "cell_type": "code",
   "execution_count": 119,
   "id": "21fbded5",
   "metadata": {},
   "outputs": [
    {
     "data": {
      "text/plain": [
       "<AxesSubplot:>"
      ]
     },
     "execution_count": 119,
     "metadata": {},
     "output_type": "execute_result"
    },
    {
     "data": {
      "image/png": "[encoded data removed]",
      "text/plain": [
       "<Figure size 432x288 with 2 Axes>"
      ]
     },
     "metadata": {
      "needs_background": "light"
     },
     "output_type": "display_data"
    }
   ],
   "source": [
    "sns.heatmap(data.corr(),annot=True,cmap='plasma')"
   ]
  },
  {
   "cell_type": "markdown",
   "id": "f0be0a8d",
   "metadata": {},
   "source": [
    "# Data Visualization"
   ]
  },
  {
   "cell_type": "code",
   "execution_count": 120,
   "id": "94b42052",
   "metadata": {},
   "outputs": [
    {
     "data": {
      "image/png": "[encoded data removed]",
      "text/plain": [
       "<Figure size 432x288 with 1 Axes>"
      ]
     },
     "metadata": {
      "needs_background": "light"
     },
     "output_type": "display_data"
    }
   ],
   "source": [
    "\n",
    "sns.kdeplot(data['Cholesterol'], hue=data['Stage'], fill=True, palette='Purples')\n",
    "sns.despine(top=True, right=True, bottom=True, left=True)\n",
    "plt.tick_params(axis='both', which='both', bottom=False, top=False, left=False)\n",
    "plt.xlabel('')\n",
    "plt.title('Cholesterol in the body');"
   ]
  },
  {
   "cell_type": "code",
   "execution_count": 121,
   "id": "e50faa10",
   "metadata": {},
   "outputs": [
    {
     "data": {
      "image/png": "[encoded data removed]",
      "text/plain": [
       "<Figure size 432x288 with 1 Axes>"
      ]
     },
     "metadata": {
      "needs_background": "light"
     },
     "output_type": "display_data"
    }
   ],
   "source": [
    "sns.kdeplot(data['Bilirubin'], hue=data['Stage'], fill=True, palette='Blues', common_norm=True)\n",
    "sns.despine(top=True, right=True, bottom=True, left=True)\n",
    "plt.tick_params(axis='both', which='both', bottom=False, top=False, left=False)\n",
    "plt.title('Bilirubin');"
   ]
  },
  {
   "cell_type": "code",
   "execution_count": 122,
   "id": "57e4ea8d",
   "metadata": {},
   "outputs": [
    {
     "data": {
      "image/png": "[encoded data removed]",
      "text/plain": [
       "<Figure size 432x288 with 1 Axes>"
      ]
     },
     "metadata": {
      "needs_background": "light"
     },
     "output_type": "display_data"
    }
   ],
   "source": [
    "\n",
    "sns.kdeplot(data['Tryglicerides'], hue=data['Stage'], fill=True, palette='Purples', common_norm=True)\n",
    "sns.despine(top=True, right=True, bottom=True, left=True)\n",
    "plt.tick_params(axis='both', which='both', bottom=False, top=False, left=False)\n",
    "plt.xlabel('')\n",
    "plt.title('Tryglicerides');"
   ]
  },
  {
   "cell_type": "code",
   "execution_count": 123,
   "id": "6fea16ed",
   "metadata": {},
   "outputs": [
    {
     "data": {
      "image/png": "[encoded data removed]",
      "text/plain": [
       "<Figure size 432x288 with 1 Axes>"
      ]
     },
     "metadata": {
      "needs_background": "light"
     },
     "output_type": "display_data"
    }
   ],
   "source": [
    "sns.kdeplot(data['Age'], hue=data['Stage'], fill=True, palette='Blues', common_norm=True)\n",
    "sns.despine(top=True, right=True, bottom=True, left=True)\n",
    "plt.tick_params(axis='both', which='both', bottom=False, top=False, left=False)\n",
    "plt.xlabel('')\n",
    "plt.title('Age Distribution in stages');"
   ]
  },
  {
   "cell_type": "code",
   "execution_count": 124,
   "id": "d31b02ad",
   "metadata": {},
   "outputs": [
    {
     "data": {
      "image/png": "[encoded data removed]",
      "text/plain": [
       "<Figure size 432x288 with 1 Axes>"
      ]
     },
     "metadata": {
      "needs_background": "light"
     },
     "output_type": "display_data"
    }
   ],
   "source": [
    "sns.kdeplot(data['Platelets'], hue=data['Stage'], fill=True, palette='Purples')\n",
    "sns.despine(top=True, right=True, bottom=True, left=True)\n",
    "plt.tick_params(axis='both', which='both', bottom=False, top=False, left=False)\n",
    "plt.title('Platelets in stages');"
   ]
  },
  {
   "cell_type": "code",
   "execution_count": 125,
   "id": "a60a8321",
   "metadata": {},
   "outputs": [
    {
     "data": {
      "image/png": "[encoded data removed]",
      "text/plain": [
       "<Figure size 432x288 with 1 Axes>"
      ]
     },
     "metadata": {
      "needs_background": "light"
     },
     "output_type": "display_data"
    }
   ],
   "source": [
    "sns.kdeplot(data['Albumin'], hue=data['Stage'], fill=True, palette='Blues', common_norm=True)\n",
    "sns.despine(top=True, right=True, bottom=True, left=True)\n",
    "plt.tick_params(axis='both', which='both', bottom=False, top=False, left=False)\n",
    "plt.title('Albumin');"
   ]
  },
  {
   "cell_type": "code",
   "execution_count": 126,
   "id": "793379d9",
   "metadata": {},
   "outputs": [
    {
     "data": {
      "text/plain": [
       "Text(0.5, 1.0, 'Disease Stage Across Gender')"
      ]
     },
     "execution_count": 126,
     "metadata": {},
     "output_type": "execute_result"
    },
    {
     "data": {
      "image/png": "[encoded data removed]",
      "text/plain": [
       "<Figure size 432x288 with 1 Axes>"
      ]
     },
     "metadata": {
      "needs_background": "light"
     },
     "output_type": "display_data"
    }
   ],
   "source": [
    "sns.countplot(x=data['Stage'], hue=data['Sex'], palette='Blues', alpha=0.9)\n",
    "sns.despine(top=True, right=True, bottom=True, left=True)\n",
    "plt.tick_params(axis='both', which='both', bottom=False, top=False, left=False)\n",
    "plt.xlabel('')\n",
    "plt.title('Disease Stage Across Gender')\n"
   ]
  },
  {
   "cell_type": "code",
   "execution_count": 127,
   "id": "69196334",
   "metadata": {},
   "outputs": [
    {
     "data": {
      "image/png": "[encoded data removed]",
      "text/plain": [
       "<Figure size 432x288 with 1 Axes>"
      ]
     },
     "metadata": {
      "needs_background": "light"
     },
     "output_type": "display_data"
    }
   ],
   "source": [
    "sns.countplot(x=data['Stage'], hue=data['Drug'], palette='Blues', alpha=0.9)\n",
    "sns.despine(top=True, right=True, bottom=True, left=True)\n",
    "plt.tick_params(axis='both', which='both', bottom=False, top=False, left=False)\n",
    "plt.xlabel('')\n",
    "plt.title('Medications prescribed across Stages');"
   ]
  },
  {
   "cell_type": "markdown",
   "id": "aa9c07df",
   "metadata": {},
   "source": [
    "# Replacing catagorical data with intigers"
   ]
  },
  {
   "cell_type": "code",
   "execution_count": 128,
   "id": "832fa96c",
   "metadata": {},
   "outputs": [],
   "source": [
    "data['Sex'] = data['Sex'].replace({'M':0, 'F':1})                                \n",
    "data['Ascites'] = data['Ascites'].replace({'N':0, 'Y':1})                         \n",
    "data['Drug'] = data['Drug'].replace({'D-penicillamine':0, 'Placebo':1})          \n",
    "data['Hepatomegaly'] = data['Hepatomegaly'].replace({'N':0, 'Y':1})             \n",
    "data['Spiders'] = data['Spiders'].replace({'N':0, 'Y':1})                       \n",
    "data['Edema'] = data['Edema'].replace({'N':0, 'Y':1, 'S':-1})                \n",
    "data['Status'] = data['Status'].replace({'C':0, 'CL':1, 'D':-1}) "
   ]
  },
  {
   "cell_type": "code",
   "execution_count": 129,
   "id": "d7790695",
   "metadata": {},
   "outputs": [
    {
     "data": {
      "text/html": [
       "<div>\n",
       "<style scoped>\n",
       "    .dataframe tbody tr th:only-of-type {\n",
       "        vertical-align: middle;\n",
       "    }\n",
       "\n",
       "    .dataframe tbody tr th {\n",
       "        vertical-align: top;\n",
       "    }\n",
       "\n",
       "    .dataframe thead th {\n",
       "        text-align: right;\n",
       "    }\n",
       "</style>\n",
       "<table border=\"1\" class=\"dataframe\">\n",
       "  <thead>\n",
       "    <tr style=\"text-align: right;\">\n",
       "      <th></th>\n",
       "      <th>ID</th>\n",
       "      <th>N_Days</th>\n",
       "      <th>Status</th>\n",
       "      <th>Drug</th>\n",
       "      <th>Age</th>\n",
       "      <th>Sex</th>\n",
       "      <th>Ascites</th>\n",
       "      <th>Hepatomegaly</th>\n",
       "      <th>Spiders</th>\n",
       "      <th>Edema</th>\n",
       "      <th>Bilirubin</th>\n",
       "      <th>Cholesterol</th>\n",
       "      <th>Albumin</th>\n",
       "      <th>Copper</th>\n",
       "      <th>Alk_Phos</th>\n",
       "      <th>SGOT</th>\n",
       "      <th>Tryglicerides</th>\n",
       "      <th>Platelets</th>\n",
       "      <th>Prothrombin</th>\n",
       "      <th>Stage</th>\n",
       "    </tr>\n",
       "  </thead>\n",
       "  <tbody>\n",
       "    <tr>\n",
       "      <th>0</th>\n",
       "      <td>1</td>\n",
       "      <td>400</td>\n",
       "      <td>-1</td>\n",
       "      <td>0</td>\n",
       "      <td>21464</td>\n",
       "      <td>1</td>\n",
       "      <td>1</td>\n",
       "      <td>1</td>\n",
       "      <td>1</td>\n",
       "      <td>1</td>\n",
       "      <td>14.5</td>\n",
       "      <td>261.0</td>\n",
       "      <td>2.60</td>\n",
       "      <td>156.0</td>\n",
       "      <td>1718.0</td>\n",
       "      <td>137.95</td>\n",
       "      <td>172.0</td>\n",
       "      <td>190.0</td>\n",
       "      <td>12.2</td>\n",
       "      <td>4.0</td>\n",
       "    </tr>\n",
       "    <tr>\n",
       "      <th>1</th>\n",
       "      <td>2</td>\n",
       "      <td>4500</td>\n",
       "      <td>0</td>\n",
       "      <td>0</td>\n",
       "      <td>20617</td>\n",
       "      <td>1</td>\n",
       "      <td>0</td>\n",
       "      <td>1</td>\n",
       "      <td>1</td>\n",
       "      <td>0</td>\n",
       "      <td>1.1</td>\n",
       "      <td>302.0</td>\n",
       "      <td>4.14</td>\n",
       "      <td>54.0</td>\n",
       "      <td>7394.8</td>\n",
       "      <td>113.52</td>\n",
       "      <td>88.0</td>\n",
       "      <td>221.0</td>\n",
       "      <td>10.6</td>\n",
       "      <td>3.0</td>\n",
       "    </tr>\n",
       "    <tr>\n",
       "      <th>2</th>\n",
       "      <td>3</td>\n",
       "      <td>1012</td>\n",
       "      <td>-1</td>\n",
       "      <td>0</td>\n",
       "      <td>25594</td>\n",
       "      <td>0</td>\n",
       "      <td>0</td>\n",
       "      <td>0</td>\n",
       "      <td>0</td>\n",
       "      <td>-1</td>\n",
       "      <td>1.4</td>\n",
       "      <td>176.0</td>\n",
       "      <td>3.48</td>\n",
       "      <td>210.0</td>\n",
       "      <td>516.0</td>\n",
       "      <td>96.10</td>\n",
       "      <td>55.0</td>\n",
       "      <td>151.0</td>\n",
       "      <td>12.0</td>\n",
       "      <td>4.0</td>\n",
       "    </tr>\n",
       "    <tr>\n",
       "      <th>3</th>\n",
       "      <td>4</td>\n",
       "      <td>1925</td>\n",
       "      <td>-1</td>\n",
       "      <td>0</td>\n",
       "      <td>19994</td>\n",
       "      <td>1</td>\n",
       "      <td>0</td>\n",
       "      <td>1</td>\n",
       "      <td>1</td>\n",
       "      <td>-1</td>\n",
       "      <td>1.8</td>\n",
       "      <td>244.0</td>\n",
       "      <td>2.54</td>\n",
       "      <td>64.0</td>\n",
       "      <td>6121.8</td>\n",
       "      <td>60.63</td>\n",
       "      <td>92.0</td>\n",
       "      <td>183.0</td>\n",
       "      <td>10.3</td>\n",
       "      <td>4.0</td>\n",
       "    </tr>\n",
       "    <tr>\n",
       "      <th>4</th>\n",
       "      <td>5</td>\n",
       "      <td>1504</td>\n",
       "      <td>1</td>\n",
       "      <td>1</td>\n",
       "      <td>13918</td>\n",
       "      <td>1</td>\n",
       "      <td>0</td>\n",
       "      <td>1</td>\n",
       "      <td>1</td>\n",
       "      <td>0</td>\n",
       "      <td>3.4</td>\n",
       "      <td>279.0</td>\n",
       "      <td>3.53</td>\n",
       "      <td>143.0</td>\n",
       "      <td>671.0</td>\n",
       "      <td>113.15</td>\n",
       "      <td>72.0</td>\n",
       "      <td>136.0</td>\n",
       "      <td>10.9</td>\n",
       "      <td>3.0</td>\n",
       "    </tr>\n",
       "  </tbody>\n",
       "</table>\n",
       "</div>"
      ],
      "text/plain": [
       "   ID  N_Days  Status  Drug    Age  Sex  Ascites  Hepatomegaly  Spiders  \\\n",
       "0   1     400      -1     0  21464    1        1             1        1   \n",
       "1   2    4500       0     0  20617    1        0             1        1   \n",
       "2   3    1012      -1     0  25594    0        0             0        0   \n",
       "3   4    1925      -1     0  19994    1        0             1        1   \n",
       "4   5    1504       1     1  13918    1        0             1        1   \n",
       "\n",
       "   Edema  Bilirubin  Cholesterol  Albumin  Copper  Alk_Phos    SGOT  \\\n",
       "0      1       14.5        261.0     2.60   156.0    1718.0  137.95   \n",
       "1      0        1.1        302.0     4.14    54.0    7394.8  113.52   \n",
       "2     -1        1.4        176.0     3.48   210.0     516.0   96.10   \n",
       "3     -1        1.8        244.0     2.54    64.0    6121.8   60.63   \n",
       "4      0        3.4        279.0     3.53   143.0     671.0  113.15   \n",
       "\n",
       "   Tryglicerides  Platelets  Prothrombin  Stage  \n",
       "0          172.0      190.0         12.2    4.0  \n",
       "1           88.0      221.0         10.6    3.0  \n",
       "2           55.0      151.0         12.0    4.0  \n",
       "3           92.0      183.0         10.3    4.0  \n",
       "4           72.0      136.0         10.9    3.0  "
      ]
     },
     "execution_count": 129,
     "metadata": {},
     "output_type": "execute_result"
    }
   ],
   "source": [
    "data.head(5)"
   ]
  },
  {
   "cell_type": "markdown",
   "id": "05db4950",
   "metadata": {},
   "source": [
    "# Train and Test"
   ]
  },
  {
   "cell_type": "code",
   "execution_count": 130,
   "id": "01ca355f",
   "metadata": {},
   "outputs": [],
   "source": [
    "# Setting up Features and Target\n",
    "X = data.drop(['Status', 'N_Days', 'Stage'], axis=1)\n",
    "y = data.pop('Stage')"
   ]
  },
  {
   "cell_type": "code",
   "execution_count": 152,
   "id": "4a5c7bc3",
   "metadata": {},
   "outputs": [],
   "source": [
    "from sklearn.linear_model import LogisticRegression\n",
    "from sklearn.model_selection import StratifiedKFold\n",
    "\n",
    "log_model = LogisticRegression(max_iter=5000, solver='saga')\n",
    "skf = StratifiedKFold(n_splits=10, random_state=1, shuffle=True)\n",
    "\n",
    "acc=[]\n",
    "def training(train, test):\n",
    "   X_train = train\n",
    "   y_train = y.iloc[train_index]\n",
    "   X_test = test\n",
    "   y_test = y.iloc[test_index]\n",
    "   log_model.fit(X_train, y_train)\n",
    "   score = log_model.score(X_test,y_test)\n",
    "   acc.append(score)"
   ]
  },
  {
   "cell_type": "code",
   "execution_count": 153,
   "id": "2fc25978",
   "metadata": {},
   "outputs": [
    {
     "name": "stdout",
     "output_type": "stream",
     "text": [
      "\n",
      "Logestic Regression Mean Accuracy =  0.46138211382113825\n"
     ]
    }
   ],
   "source": [
    "for train_index,test_index in skf.split(X, y):\n",
    "  train = X.iloc[train_index,:]\n",
    "  test = X.iloc[test_index,:]\n",
    "  training(train, test)\n",
    "\n",
    "print()\n",
    "print('Logestic Regression Mean Accuracy = ', np.mean(acc))"
   ]
  },
  {
   "cell_type": "code",
   "execution_count": 157,
   "id": "1339b5db",
   "metadata": {},
   "outputs": [
    {
     "name": "stdout",
     "output_type": "stream",
     "text": [
      "              precision    recall  f1-score   support\n",
      "\n",
      "         1.0       0.00      0.00      0.00         2\n",
      "         2.0       0.00      0.00      0.00         9\n",
      "         3.0       0.32      0.50      0.39        16\n",
      "         4.0       0.44      0.50      0.47        14\n",
      "\n",
      "    accuracy                           0.37        41\n",
      "   macro avg       0.19      0.25      0.21        41\n",
      "weighted avg       0.27      0.37      0.31        41\n",
      "\n"
     ]
    },
    {
     "name": "stderr",
     "output_type": "stream",
     "text": [
      "C:\\Users\\USER\\ANACONDA\\lib\\site-packages\\sklearn\\metrics\\_classification.py:1334: UndefinedMetricWarning: Precision and F-score are ill-defined and being set to 0.0 in labels with no predicted samples. Use `zero_division` parameter to control this behavior.\n",
      "  _warn_prf(average, modifier, msg_start, len(result))\n",
      "C:\\Users\\USER\\ANACONDA\\lib\\site-packages\\sklearn\\metrics\\_classification.py:1334: UndefinedMetricWarning: Precision and F-score are ill-defined and being set to 0.0 in labels with no predicted samples. Use `zero_division` parameter to control this behavior.\n",
      "  _warn_prf(average, modifier, msg_start, len(result))\n",
      "C:\\Users\\USER\\ANACONDA\\lib\\site-packages\\sklearn\\metrics\\_classification.py:1334: UndefinedMetricWarning: Precision and F-score are ill-defined and being set to 0.0 in labels with no predicted samples. Use `zero_division` parameter to control this behavior.\n",
      "  _warn_prf(average, modifier, msg_start, len(result))\n"
     ]
    }
   ],
   "source": [
    "from sklearn.metrics import classification_report\n",
    "log_model_predict = log_model.predict(test)\n",
    "log_model_predict_proba = log_model.predict_proba(test)\n",
    "\n",
    "print(classification_report(y.iloc[test_index], log_model_predict))"
   ]
  },
  {
   "cell_type": "code",
   "execution_count": null,
   "id": "1ba725e3",
   "metadata": {},
   "outputs": [],
   "source": []
  },
  {
   "cell_type": "code",
   "execution_count": null,
   "id": "068b0001",
   "metadata": {},
   "outputs": [],
   "source": []
  },
  {
   "cell_type": "code",
   "execution_count": null,
   "id": "06319876",
   "metadata": {},
   "outputs": [],
   "source": []
  },
  {
   "cell_type": "code",
   "execution_count": null,
   "id": "cfc44869",
   "metadata": {},
   "outputs": [],
   "source": []
  }
 ],
 "metadata": {
  "kernelspec": {
   "display_name": "Python 3 (ipykernel)",
   "language": "python",
   "name": "python3"
  },
  "language_info": {
   "codemirror_mode": {
    "name": "ipython",
    "version": 3
   },
   "file_extension": ".py",
   "mimetype": "text/x-python",
   "name": "python",
   "nbconvert_exporter": "python",
   "pygments_lexer": "ipython3",
   "version": "3.9.12"
  }
 },
 "nbformat": 4,
 "nbformat_minor": 5
}
